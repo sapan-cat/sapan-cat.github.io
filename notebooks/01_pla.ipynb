{
 "cells": [
  {
   "cell_type": "code",
   "execution_count": 12,
   "metadata": {},
   "outputs": [],
   "source": [
    "import numpy as np\n",
    "\n",
    "class Perceptron:\n",
    "    def __init__(self, learning_rate=0.01, n_iterations=1000):\n",
    "        self.learning_rate = learning_rate\n",
    "        self.n_iterations = n_iterations\n",
    "\n",
    "    def fit(self, X, y):\n",
    "        # Add a column of 1s to the feature matrix for the bias term\n",
    "        X = np.insert(X, 0, 1, axis=1)\n",
    "        n_samples, n_features = X.shape\n",
    "\n",
    "        # Initialize the weights to 0\n",
    "        self.weights = np.zeros(n_features)\n",
    "\n",
    "        # Iterate over the training data for n_iterations\n",
    "        for i in range(self.n_iterations):\n",
    "            # Iterate over each sample in the training data\n",
    "            for j in range(n_samples):\n",
    "                # Compute the predicted class for the sample\n",
    "                y_pred = np.dot(self.weights, X[j])\n",
    "\n",
    "                # Update the weights if the predicted class is incorrect\n",
    "                if y[j] * y_pred <= 0:\n",
    "                    self.weights += self.learning_rate * y[j] * X[j]\n",
    "\n",
    "    def predict(self, X):\n",
    "        # Add a column of 1s to the feature matrix for the bias term\n",
    "        X = np.insert(X, 0, 1, axis=1)\n",
    "\n",
    "        # Compute the predicted classes for the samples\n",
    "        y_pred = np.dot(X, self.weights)\n",
    "\n",
    "        # Return the predicted classes\n",
    "        return np.where(y_pred >= 0, 1, -1)"
   ]
  },
  {
   "cell_type": "code",
   "execution_count": 21,
   "metadata": {},
   "outputs": [
    {
     "ename": "ValueError",
     "evalue": "Number of informative, redundant and repeated features must sum to less than the number of total features",
     "output_type": "error",
     "traceback": [
      "\u001b[0;31m---------------------------------------------------------------------------\u001b[0m",
      "\u001b[0;31mValueError\u001b[0m                                Traceback (most recent call last)",
      "Cell \u001b[0;32mIn[21], line 2\u001b[0m\n\u001b[1;32m      1\u001b[0m \u001b[39m# Generate a random classification dataset with 1000 samples and 10 features\u001b[39;00m\n\u001b[0;32m----> 2\u001b[0m X, y \u001b[39m=\u001b[39m make_classification(n_samples\u001b[39m=\u001b[39;49m\u001b[39m10\u001b[39;49m, n_features\u001b[39m=\u001b[39;49m\u001b[39m2\u001b[39;49m, random_state\u001b[39m=\u001b[39;49m\u001b[39m10\u001b[39;49m)\n\u001b[1;32m      4\u001b[0m \u001b[39m# Split the data into training and test sets with 80% for training and 20% for testing\u001b[39;00m\n\u001b[1;32m      5\u001b[0m X_train, X_test, y_train, y_test \u001b[39m=\u001b[39m train_test_split(X, y, test_size\u001b[39m=\u001b[39m\u001b[39m0.2\u001b[39m, random_state\u001b[39m=\u001b[39m\u001b[39m42\u001b[39m)\n",
      "File \u001b[0;32m/usr/local/lib/python3.8/dist-packages/sklearn/datasets/_samples_generator.py:159\u001b[0m, in \u001b[0;36mmake_classification\u001b[0;34m(n_samples, n_features, n_informative, n_redundant, n_repeated, n_classes, n_clusters_per_class, weights, flip_y, class_sep, hypercube, shift, scale, shuffle, random_state)\u001b[0m\n\u001b[1;32m    157\u001b[0m \u001b[39m# Count features, clusters and samples\u001b[39;00m\n\u001b[1;32m    158\u001b[0m \u001b[39mif\u001b[39;00m n_informative \u001b[39m+\u001b[39m n_redundant \u001b[39m+\u001b[39m n_repeated \u001b[39m>\u001b[39m n_features:\n\u001b[0;32m--> 159\u001b[0m     \u001b[39mraise\u001b[39;00m \u001b[39mValueError\u001b[39;00m(\u001b[39m\"\u001b[39m\u001b[39mNumber of informative, redundant and repeated \u001b[39m\u001b[39m\"\u001b[39m\n\u001b[1;32m    160\u001b[0m                      \u001b[39m\"\u001b[39m\u001b[39mfeatures must sum to less than the number of total\u001b[39m\u001b[39m\"\u001b[39m\n\u001b[1;32m    161\u001b[0m                      \u001b[39m\"\u001b[39m\u001b[39m features\u001b[39m\u001b[39m\"\u001b[39m)\n\u001b[1;32m    162\u001b[0m \u001b[39m# Use log2 to avoid overflow errors\u001b[39;00m\n\u001b[1;32m    163\u001b[0m \u001b[39mif\u001b[39;00m n_informative \u001b[39m<\u001b[39m np\u001b[39m.\u001b[39mlog2(n_classes \u001b[39m*\u001b[39m n_clusters_per_class):\n",
      "\u001b[0;31mValueError\u001b[0m: Number of informative, redundant and repeated features must sum to less than the number of total features"
     ]
    }
   ],
   "source": [
    "# Generate a random classification dataset with 1000 samples and 10 features\n",
    "X, y = make_classification(n_samples=10, n_features=2, random_state=10)\n",
    "\n",
    "# Split the data into training and test sets with 80% for training and 20% for testing\n",
    "X_train, X_test, y_train, y_test = train_test_split(X, y, test_size=0.2, random_state=42)\n",
    "\n",
    "# Create a Perceptron object with a learning rate of 0.01 and 1000 iterations\n",
    "perceptron = Perceptron(learning_rate=0.01, n_iterations=1000)\n",
    "\n",
    "# Train the model on a training set X_train, y_train\n",
    "perceptron.fit(X_train, y_train)\n",
    "\n",
    "# Make predictions on a test set X_test\n",
    "y_pred = perceptron.predict(X_test)\n",
    "\n",
    "# Evaluate the accuracy of the predictions\n",
    "accuracy = np.mean(y_pred == y_test)"
   ]
  },
  {
   "cell_type": "code",
   "execution_count": 20,
   "metadata": {},
   "outputs": [
    {
     "data": {
      "text/plain": [
       "array([[-6.39262431e-02, -2.21042464e-01,  1.89653652e-01, ...,\n",
       "         2.39210964e+00,  8.74894567e-01,  1.92596919e-01],\n",
       "       [-1.88464871e+00,  9.20551373e-02, -1.61923889e+00, ...,\n",
       "        -9.93593004e-01,  2.23427922e+00,  2.52992775e+00],\n",
       "       [ 5.31307386e-01,  2.65362349e-01,  3.71714169e-01, ...,\n",
       "        -1.34279162e-01, -9.06844611e-01, -2.43881716e+00],\n",
       "       ...,\n",
       "       [ 4.09146664e-02,  4.27962627e-01, -2.35298234e-03, ...,\n",
       "        -1.92277177e+00, -1.71047718e-01,  1.63925652e+00],\n",
       "       [ 3.39379203e-01, -6.40154457e-01,  2.52539950e-01, ...,\n",
       "        -1.39922826e+00, -5.29912480e-01, -7.34810898e-01],\n",
       "       [ 1.84815207e+00, -3.13058031e-01,  1.78069642e+00, ...,\n",
       "         6.04515326e-01, -1.56102804e+00, -1.25040773e+00]])"
      ]
     },
     "execution_count": 20,
     "metadata": {},
     "output_type": "execute_result"
    }
   ],
   "source": [
    "X_train"
   ]
  },
  {
   "cell_type": "code",
   "execution_count": null,
   "metadata": {},
   "outputs": [],
   "source": []
  }
 ],
 "metadata": {
  "kernelspec": {
   "display_name": "Python 3",
   "language": "python",
   "name": "python3"
  },
  "language_info": {
   "codemirror_mode": {
    "name": "ipython",
    "version": 3
   },
   "file_extension": ".py",
   "mimetype": "text/x-python",
   "name": "python",
   "nbconvert_exporter": "python",
   "pygments_lexer": "ipython3",
   "version": "3.8.10"
  },
  "orig_nbformat": 4,
  "vscode": {
   "interpreter": {
    "hash": "916dbcbb3f70747c44a77c7bcd40155683ae19c65e1c03b4aa3499c5328201f1"
   }
  }
 },
 "nbformat": 4,
 "nbformat_minor": 2
}
